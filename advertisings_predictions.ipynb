{
 "cells": [
  {
   "cell_type": "markdown",
   "id": "da821297",
   "metadata": {},
   "source": [
    "# Multiple Linear Regression\n",
    "\n",
    "## Introduction\n",
    "\n",
    "The goal of this notebook is to use linear regression from sklearn and my own implementation to predict the sales of a product depending on the advertising platform.\n"
   ]
  },
  {
   "cell_type": "code",
   "execution_count": 34,
   "id": "1f3ff975",
   "metadata": {},
   "outputs": [],
   "source": [
    "import numpy as np\n",
    "import pandas as pd\n",
    "import matplotlib.pyplot as plt"
   ]
  },
  {
   "cell_type": "markdown",
   "id": "a59123a1",
   "metadata": {},
   "source": [
    "## Loading data"
   ]
  },
  {
   "cell_type": "code",
   "execution_count": 7,
   "id": "fa9f295d",
   "metadata": {},
   "outputs": [
    {
     "data": {
      "text/html": [
       "<div>\n",
       "<style scoped>\n",
       "    .dataframe tbody tr th:only-of-type {\n",
       "        vertical-align: middle;\n",
       "    }\n",
       "\n",
       "    .dataframe tbody tr th {\n",
       "        vertical-align: top;\n",
       "    }\n",
       "\n",
       "    .dataframe thead th {\n",
       "        text-align: right;\n",
       "    }\n",
       "</style>\n",
       "<table border=\"1\" class=\"dataframe\">\n",
       "  <thead>\n",
       "    <tr style=\"text-align: right;\">\n",
       "      <th></th>\n",
       "      <th>TV</th>\n",
       "      <th>Radio</th>\n",
       "      <th>Newspaper</th>\n",
       "      <th>Sales</th>\n",
       "    </tr>\n",
       "  </thead>\n",
       "  <tbody>\n",
       "    <tr>\n",
       "      <th>1</th>\n",
       "      <td>230.1</td>\n",
       "      <td>37.8</td>\n",
       "      <td>69.2</td>\n",
       "      <td>22.1</td>\n",
       "    </tr>\n",
       "    <tr>\n",
       "      <th>2</th>\n",
       "      <td>44.5</td>\n",
       "      <td>39.3</td>\n",
       "      <td>45.1</td>\n",
       "      <td>10.4</td>\n",
       "    </tr>\n",
       "    <tr>\n",
       "      <th>3</th>\n",
       "      <td>17.2</td>\n",
       "      <td>45.9</td>\n",
       "      <td>69.3</td>\n",
       "      <td>9.3</td>\n",
       "    </tr>\n",
       "    <tr>\n",
       "      <th>4</th>\n",
       "      <td>151.5</td>\n",
       "      <td>41.3</td>\n",
       "      <td>58.5</td>\n",
       "      <td>18.5</td>\n",
       "    </tr>\n",
       "    <tr>\n",
       "      <th>5</th>\n",
       "      <td>180.8</td>\n",
       "      <td>10.8</td>\n",
       "      <td>58.4</td>\n",
       "      <td>12.9</td>\n",
       "    </tr>\n",
       "  </tbody>\n",
       "</table>\n",
       "</div>"
      ],
      "text/plain": [
       "      TV  Radio  Newspaper  Sales\n",
       "1  230.1   37.8       69.2   22.1\n",
       "2   44.5   39.3       45.1   10.4\n",
       "3   17.2   45.9       69.3    9.3\n",
       "4  151.5   41.3       58.5   18.5\n",
       "5  180.8   10.8       58.4   12.9"
      ]
     },
     "execution_count": 7,
     "metadata": {},
     "output_type": "execute_result"
    }
   ],
   "source": [
    "# read the dataset\n",
    "filepath = 'data/AdvertisingSales.csv'\n",
    "advertising_data = pd.read_csv(filepath, index_col=0)\n",
    "\n",
    "# rename the columns (easier to read)\n",
    "advertising_data.rename(columns={'TV Ad Budget ($)':'TV',\n",
    "                                 'Radio Ad Budget ($)':'Radio',\n",
    "                                 'Newspaper Ad Budget ($)':'Newspaper',\n",
    "                                 'Sales ($)':'Sales'}, inplace=True)\n",
    "\n",
    "# Take a look to the data set\n",
    "advertising_data.head()"
   ]
  },
  {
   "cell_type": "code",
   "execution_count": 8,
   "id": "31e61ef5",
   "metadata": {},
   "outputs": [
    {
     "data": {
      "text/html": [
       "<div>\n",
       "<style scoped>\n",
       "    .dataframe tbody tr th:only-of-type {\n",
       "        vertical-align: middle;\n",
       "    }\n",
       "\n",
       "    .dataframe tbody tr th {\n",
       "        vertical-align: top;\n",
       "    }\n",
       "\n",
       "    .dataframe thead th {\n",
       "        text-align: right;\n",
       "    }\n",
       "</style>\n",
       "<table border=\"1\" class=\"dataframe\">\n",
       "  <thead>\n",
       "    <tr style=\"text-align: right;\">\n",
       "      <th></th>\n",
       "      <th>TV</th>\n",
       "      <th>Radio</th>\n",
       "      <th>Newspaper</th>\n",
       "      <th>Sales</th>\n",
       "    </tr>\n",
       "  </thead>\n",
       "  <tbody>\n",
       "    <tr>\n",
       "      <th>count</th>\n",
       "      <td>200.000000</td>\n",
       "      <td>200.000000</td>\n",
       "      <td>200.000000</td>\n",
       "      <td>200.000000</td>\n",
       "    </tr>\n",
       "    <tr>\n",
       "      <th>mean</th>\n",
       "      <td>147.042500</td>\n",
       "      <td>23.264000</td>\n",
       "      <td>30.554000</td>\n",
       "      <td>14.022500</td>\n",
       "    </tr>\n",
       "    <tr>\n",
       "      <th>std</th>\n",
       "      <td>85.854236</td>\n",
       "      <td>14.846809</td>\n",
       "      <td>21.778621</td>\n",
       "      <td>5.217457</td>\n",
       "    </tr>\n",
       "    <tr>\n",
       "      <th>min</th>\n",
       "      <td>0.700000</td>\n",
       "      <td>0.000000</td>\n",
       "      <td>0.300000</td>\n",
       "      <td>1.600000</td>\n",
       "    </tr>\n",
       "    <tr>\n",
       "      <th>25%</th>\n",
       "      <td>74.375000</td>\n",
       "      <td>9.975000</td>\n",
       "      <td>12.750000</td>\n",
       "      <td>10.375000</td>\n",
       "    </tr>\n",
       "    <tr>\n",
       "      <th>50%</th>\n",
       "      <td>149.750000</td>\n",
       "      <td>22.900000</td>\n",
       "      <td>25.750000</td>\n",
       "      <td>12.900000</td>\n",
       "    </tr>\n",
       "    <tr>\n",
       "      <th>75%</th>\n",
       "      <td>218.825000</td>\n",
       "      <td>36.525000</td>\n",
       "      <td>45.100000</td>\n",
       "      <td>17.400000</td>\n",
       "    </tr>\n",
       "    <tr>\n",
       "      <th>max</th>\n",
       "      <td>296.400000</td>\n",
       "      <td>49.600000</td>\n",
       "      <td>114.000000</td>\n",
       "      <td>27.000000</td>\n",
       "    </tr>\n",
       "  </tbody>\n",
       "</table>\n",
       "</div>"
      ],
      "text/plain": [
       "               TV       Radio   Newspaper       Sales\n",
       "count  200.000000  200.000000  200.000000  200.000000\n",
       "mean   147.042500   23.264000   30.554000   14.022500\n",
       "std     85.854236   14.846809   21.778621    5.217457\n",
       "min      0.700000    0.000000    0.300000    1.600000\n",
       "25%     74.375000    9.975000   12.750000   10.375000\n",
       "50%    149.750000   22.900000   25.750000   12.900000\n",
       "75%    218.825000   36.525000   45.100000   17.400000\n",
       "max    296.400000   49.600000  114.000000   27.000000"
      ]
     },
     "execution_count": 8,
     "metadata": {},
     "output_type": "execute_result"
    }
   ],
   "source": [
    "# some stats on the dataset\n",
    "advertising_data.describe()"
   ]
  },
  {
   "cell_type": "markdown",
   "id": "9b849498",
   "metadata": {},
   "source": [
    "### Visualising the data\n",
    "\n",
    "Plot each feature according to the sales"
   ]
  },
  {
   "cell_type": "code",
   "execution_count": 9,
   "id": "5c4a5ccf",
   "metadata": {},
   "outputs": [
    {
     "data": {
      "text/plain": [
       "<matplotlib.collections.PathCollection at 0x7f4333d07f50>"
      ]
     },
     "execution_count": 9,
     "metadata": {},
     "output_type": "execute_result"
    },
    {
     "data": {
      "image/png": "[encoded data removed]",
      "text/plain": [
       "<Figure size 1700x600 with 1 Axes>"
      ]
     },
     "metadata": {},
     "output_type": "display_data"
    }
   ],
   "source": [
    "plt.figure(figsize=(17, 6))\n",
    "plt.title('sales for TV advertising')\n",
    "plt.xlabel('TV budget ($)')\n",
    "plt.ylabel('Sales ($)')\n",
    "plt.scatter(x=advertising_data.TV, y=advertising_data.Sales)"
   ]
  },
  {
   "cell_type": "code",
   "execution_count": 10,
   "id": "d95540b5",
   "metadata": {},
   "outputs": [
    {
     "data": {
      "text/plain": [
       "<matplotlib.collections.PathCollection at 0x7f43310ef790>"
      ]
     },
     "execution_count": 10,
     "metadata": {},
     "output_type": "execute_result"
    },
    {
     "data": {
      "image/png": "[encoded data removed]",
      "text/plain": [
       "<Figure size 1700x600 with 1 Axes>"
      ]
     },
     "metadata": {},
     "output_type": "display_data"
    }
   ],
   "source": [
    "plt.figure(figsize=(17, 6))\n",
    "plt.title('sales for Radio advertising')\n",
    "plt.xlabel('Radio budget ($)')\n",
    "plt.ylabel('Sales ($)')\n",
    "plt.scatter(x=advertising_data.Radio, y=advertising_data.Sales)"
   ]
  },
  {
   "cell_type": "code",
   "execution_count": 11,
   "id": "e9a91bb4",
   "metadata": {},
   "outputs": [
    {
     "data": {
      "text/plain": [
       "<matplotlib.collections.PathCollection at 0x7f4333bbc790>"
      ]
     },
     "execution_count": 11,
     "metadata": {},
     "output_type": "execute_result"
    },
    {
     "data": {
      "image/png": "[encoded data removed]",
      "text/plain": [
       "<Figure size 1700x600 with 1 Axes>"
      ]
     },
     "metadata": {},
     "output_type": "display_data"
    }
   ],
   "source": [
    "plt.figure(figsize=(17, 6))\n",
    "plt.title('sales for Newspaper advertising')\n",
    "plt.xlabel('Newspaper budget ($)')\n",
    "plt.ylabel('Sales ($)')\n",
    "plt.scatter(x=advertising_data.Newspaper, y=advertising_data.Sales)"
   ]
  },
  {
   "cell_type": "markdown",
   "id": "f0db562e",
   "metadata": {},
   "source": [
    "## Implementing the model using sklearn\n",
    "\n",
    "### Split  data into training set and validation set"
   ]
  },
  {
   "cell_type": "code",
   "execution_count": 35,
   "id": "54311a8e",
   "metadata": {},
   "outputs": [],
   "source": [
    "from sklearn.model_selection import train_test_split\n",
    "from sklearn.linear_model import LinearRegression\n",
    "\n",
    "# Choose the features\n",
    "features_columns = ['TV', 'Radio', 'Newspaper']\n",
    "\n",
    "y = advertising_data.Sales\n",
    "X = advertising_data[features_columns]\n",
    "\n",
    "# Splitting the dataset into the Training set and Test set\n",
    "X_train, X_valid, y_train, y_valid = train_test_split(X, y, test_size = 0.3)"
   ]
  },
  {
   "cell_type": "markdown",
   "id": "0501de6e",
   "metadata": {},
   "source": [
    "### Choose a model"
   ]
  },
  {
   "cell_type": "code",
   "execution_count": 17,
   "id": "7bba2cf3",
   "metadata": {},
   "outputs": [],
   "source": [
    "# Specify Model\n",
    "model = LinearRegression()\n",
    "\n",
    "# Fit the model\n",
    "model.fit(X_train, y_train)\n",
    "\n",
    "# predictions of the model\n",
    "predictions = model.predict(X_valid)"
   ]
  },
  {
   "cell_type": "code",
   "execution_count": 18,
   "id": "34f11963",
   "metadata": {},
   "outputs": [
    {
     "data": {
      "text/html": [
       "<div>\n",
       "<style scoped>\n",
       "    .dataframe tbody tr th:only-of-type {\n",
       "        vertical-align: middle;\n",
       "    }\n",
       "\n",
       "    .dataframe tbody tr th {\n",
       "        vertical-align: top;\n",
       "    }\n",
       "\n",
       "    .dataframe thead th {\n",
       "        text-align: right;\n",
       "    }\n",
       "</style>\n",
       "<table border=\"1\" class=\"dataframe\">\n",
       "  <thead>\n",
       "    <tr style=\"text-align: right;\">\n",
       "      <th></th>\n",
       "      <th>TV</th>\n",
       "      <th>Radio</th>\n",
       "      <th>Newspaper</th>\n",
       "      <th>Sales</th>\n",
       "      <th>Predicted</th>\n",
       "    </tr>\n",
       "  </thead>\n",
       "  <tbody>\n",
       "    <tr>\n",
       "      <th>148</th>\n",
       "      <td>243.2</td>\n",
       "      <td>49.0</td>\n",
       "      <td>44.3</td>\n",
       "      <td>25.4</td>\n",
       "      <td>23.398005</td>\n",
       "    </tr>\n",
       "    <tr>\n",
       "      <th>78</th>\n",
       "      <td>120.5</td>\n",
       "      <td>28.5</td>\n",
       "      <td>14.2</td>\n",
       "      <td>14.2</td>\n",
       "      <td>13.738708</td>\n",
       "    </tr>\n",
       "    <tr>\n",
       "      <th>166</th>\n",
       "      <td>234.5</td>\n",
       "      <td>3.4</td>\n",
       "      <td>84.8</td>\n",
       "      <td>11.9</td>\n",
       "      <td>14.502444</td>\n",
       "    </tr>\n",
       "    <tr>\n",
       "      <th>22</th>\n",
       "      <td>237.4</td>\n",
       "      <td>5.1</td>\n",
       "      <td>23.5</td>\n",
       "      <td>12.5</td>\n",
       "      <td>14.798106</td>\n",
       "    </tr>\n",
       "    <tr>\n",
       "      <th>31</th>\n",
       "      <td>292.9</td>\n",
       "      <td>28.3</td>\n",
       "      <td>43.2</td>\n",
       "      <td>21.4</td>\n",
       "      <td>21.808499</td>\n",
       "    </tr>\n",
       "  </tbody>\n",
       "</table>\n",
       "</div>"
      ],
      "text/plain": [
       "        TV  Radio  Newspaper  Sales  Predicted\n",
       "148  243.2   49.0       44.3   25.4  23.398005\n",
       "78   120.5   28.5       14.2   14.2  13.738708\n",
       "166  234.5    3.4       84.8   11.9  14.502444\n",
       "22   237.4    5.1       23.5   12.5  14.798106\n",
       "31   292.9   28.3       43.2   21.4  21.808499"
      ]
     },
     "execution_count": 18,
     "metadata": {},
     "output_type": "execute_result"
    }
   ],
   "source": [
    "# Create dataframe with the validations values\n",
    "adverstising_data_with_prediction = advertising_data.loc[y_valid.index.tolist(), :]\n",
    "\n",
    "# add the predictions to the dataframe\n",
    "adverstising_data_with_prediction['Predicted'] = predictions\n",
    "\n",
    "# Take a look at the dataframe\n",
    "adverstising_data_with_prediction.head()"
   ]
  },
  {
   "cell_type": "code",
   "execution_count": 19,
   "id": "2d68f2bc",
   "metadata": {},
   "outputs": [
    {
     "name": "stdout",
     "output_type": "stream",
     "text": [
      "2.7153318334399295\n",
      "[0.04658842 0.18850634 0.00260858]\n"
     ]
    }
   ],
   "source": [
    "# Print the bias and weights\n",
    "print(model.intercept_)\n",
    "print(model.coef_)"
   ]
  },
  {
   "cell_type": "markdown",
   "id": "352c1c38",
   "metadata": {},
   "source": [
    "### Visualising the result"
   ]
  },
  {
   "cell_type": "code",
   "execution_count": 20,
   "id": "141b983c",
   "metadata": {},
   "outputs": [
    {
     "data": {
      "image/png": "[encoded data removed]",
      "text/plain": [
       "<Figure size 640x480 with 1 Axes>"
      ]
     },
     "metadata": {},
     "output_type": "display_data"
    }
   ],
   "source": [
    "# Plot the predicted and expected values\n",
    "plt.scatter(adverstising_data_with_prediction.TV, adverstising_data_with_prediction.Predicted, label='Predicted TV values', color='lightblue')\n",
    "plt.scatter(adverstising_data_with_prediction.TV, adverstising_data_with_prediction.Sales, label='Expected TV values', color='lightgreen')\n",
    "\n",
    "# Add labels and title\n",
    "plt.xlabel('TV budget')\n",
    "plt.ylabel('Sales')\n",
    "plt.title('Predicted vs Expected sales on TV budget')\n",
    "\n",
    "# Add legend\n",
    "plt.legend()\n",
    "\n",
    "# Show BOOM\n",
    "plt.show()"
   ]
  },
  {
   "cell_type": "markdown",
   "id": "7df9f73f",
   "metadata": {},
   "source": [
    "### Model validation\n",
    "\n",
    "I'm going to use the mean absolute error to verify the performance of the model."
   ]
  },
  {
   "cell_type": "code",
   "execution_count": 21,
   "id": "642e8034",
   "metadata": {},
   "outputs": [
    {
     "data": {
      "text/plain": [
       "1.4704454277775496"
      ]
     },
     "execution_count": 21,
     "metadata": {},
     "output_type": "execute_result"
    }
   ],
   "source": [
    "from sklearn.metrics import mean_absolute_error\n",
    "\n",
    "# Compute the mean absolute error\n",
    "mean_absolute_error(adverstising_data_with_prediction.Sales, adverstising_data_with_prediction.Predicted)"
   ]
  },
  {
   "cell_type": "markdown",
   "id": "92f2ef7e",
   "metadata": {},
   "source": [
    "We can see that the model is good enough"
   ]
  },
  {
   "cell_type": "markdown",
   "id": "c89b34f3",
   "metadata": {},
   "source": [
    "## Implementing  my own model\n",
    "\n",
    "\n",
    "The goal is to find the best fit straight line. Based on the given data points, we attempt to plot a line that fits the points the best.\n",
    "\n",
    "In the dataset we have 3 features (TV budget, Radio budget, Newspaper budget). Then, the goal is to find out the line which follows the equation:\n",
    "\n",
    "ŷi = β1X1i + β2X2i + β3X3i + b\n",
    "\n",
    "We can rewrite this formula, considering β = \\[β1, β2, β3] and X = the matrices of the features:\n",
    "\n",
    "ŷi = βXi + b"
   ]
  },
  {
   "cell_type": "markdown",
   "id": "9797c960",
   "metadata": {},
   "source": [
    "### Normalizing the data"
   ]
  },
  {
   "cell_type": "code",
   "execution_count": 22,
   "id": "6f0eb69d",
   "metadata": {},
   "outputs": [],
   "source": [
    "X=advertising_data[['TV','Radio','Newspaper']]\n",
    "y=advertising_data['Sales']\n",
    "y=np.array((y-y.mean())/y.std())\n",
    "X=X.apply(lambda p:(p-p.mean())/p.std(),axis=0)"
   ]
  },
  {
   "cell_type": "markdown",
   "id": "be808ff3",
   "metadata": {},
   "source": [
    "### Bias and weights\n",
    "\n",
    "First, we generate randomly the bias and the weigth (between 0 and 1) for our model"
   ]
  },
  {
   "cell_type": "code",
   "execution_count": 23,
   "id": "6fadc505",
   "metadata": {},
   "outputs": [
    {
     "name": "stdout",
     "output_type": "stream",
     "text": [
      "0.4431754361745749\n",
      "[0.70544893 0.4192726  0.05413679]\n"
     ]
    }
   ],
   "source": [
    "# Generate random bias and weights\n",
    "def Initialize():\n",
    "    b = np.random.uniform(0, 1)\n",
    "    β = np.random.uniform(0, 1, size=3)\n",
    "    return β, b\n",
    "\n",
    "β, b  = Initialize()\n",
    "print(b)\n",
    "print(β)"
   ]
  },
  {
   "cell_type": "markdown",
   "id": "91d5380f",
   "metadata": {},
   "source": [
    "### Calculate output\n",
    "\n",
    "We are going to create a function to calculate the output (predicted values) using the following formula : yi = β1X1i + β2X2i + β3X3i + b"
   ]
  },
  {
   "cell_type": "code",
   "execution_count": 24,
   "id": "d0c20d52",
   "metadata": {},
   "outputs": [
    {
     "name": "stdout",
     "output_type": "stream",
     "text": [
      "[ 1.63220480e+00  8.96153803e-02  1.11835381e-01  1.05860451e+00\n",
      "  4.37791447e-01  1.40881066e-01 -4.08181561e-02  7.20289500e-02\n",
      " -1.36551604e+00  2.69872869e-01 -7.30891108e-01  9.53882294e-01\n",
      " -1.47376303e-01 -4.64309276e-01  1.22252184e+00  1.58613807e+00\n",
      "  3.76089576e-01  2.07125017e+00 -3.04958319e-01  4.34779765e-01\n",
      "  1.21156959e+00  6.55142426e-01 -8.17199109e-01  9.20311926e-01\n",
      " -5.84749702e-01  8.09544405e-01  5.34963734e-01  1.00341937e+00\n",
      "  1.36860082e+00 -3.64604401e-01  1.81531181e+00  1.70343172e-02\n",
      " -5.82362083e-01  1.24996148e+00 -6.53689862e-01  1.02757245e+00\n",
      "  1.94443644e+00  6.24477980e-01 -3.02568846e-01  1.51965458e+00\n",
      "  8.74236659e-01  9.95819765e-01  1.70120848e+00  5.04929838e-01\n",
      " -4.58328176e-01  6.54495156e-01 -3.92604044e-01  1.69118844e+00\n",
      "  9.39122428e-01 -5.26381375e-01  3.17302235e-01 -3.92949463e-01\n",
      "  1.55619101e+00  1.45302039e+00  1.51342205e+00  1.68055381e+00\n",
      " -5.41534782e-01  2.04631012e-01  1.72854915e+00  1.08950915e+00\n",
      " -9.48694905e-01  1.99090144e+00  9.73895438e-01  2.02679222e-01\n",
      "  8.59762232e-01 -6.66141229e-01 -5.38969850e-01  8.14665944e-02\n",
      "  1.25664428e+00  1.59078192e+00  1.09833976e+00 -1.13133421e-01\n",
      " -2.97866855e-01 -1.95941285e-01  9.82764943e-01  9.72066384e-02\n",
      " -1.17536827e+00  3.32292245e-01 -5.85859756e-01 -2.69950236e-01\n",
      " -6.07666339e-02  6.79932294e-01 -2.25185660e-01  4.09230083e-01\n",
      "  1.55465661e+00  7.72449546e-01 -5.46567792e-02  7.15273409e-01\n",
      "  1.30148840e-01  8.81873480e-01 -2.32957880e-01 -1.13857871e+00\n",
      "  1.38352966e+00  1.77410870e+00 -1.93029923e-01  8.67715497e-01\n",
      "  2.39179399e-01  6.69045256e-01  2.20426298e+00  9.04645501e-01\n",
      "  5.74674103e-01  2.21341931e+00  1.14280182e+00  5.76192365e-01\n",
      "  1.44108022e+00  1.09212219e+00 -9.08083149e-01 -6.89027647e-01\n",
      " -1.31539809e+00  1.37393134e+00  7.29401663e-01  1.61882218e+00\n",
      "  3.86585759e-01  8.32615504e-01  5.51972380e-01  2.38510394e-01\n",
      "  1.13277892e-01 -8.10823716e-01  7.73810480e-01 -8.31292531e-01\n",
      "  5.34739136e-01 -6.05404790e-01  4.49151616e-01  5.21445054e-01\n",
      "  1.48438406e+00 -3.83850875e-01 -2.09566161e-01 -8.16112075e-01\n",
      "  1.70390571e+00 -5.62231804e-01 -3.52291701e-01  8.69914901e-01\n",
      " -6.55603228e-01  1.36623269e+00  5.83580220e-02  2.47307204e-01\n",
      " -1.63145329e-01  1.71550810e+00 -3.62274800e-01  1.26527800e+00\n",
      " -3.82710560e-01  1.28124567e+00  1.34561489e+00 -3.92012550e-01\n",
      " -1.92864643e-01 -2.69122425e-01  7.02666157e-01  1.99423634e+00\n",
      " -1.80818354e-02 -3.50881617e-01  1.29300002e+00 -1.45462304e-01\n",
      "  8.18961631e-01  1.12440956e+00  6.64625820e-01 -1.12252941e+00\n",
      "  6.27557192e-01 -1.69974184e-01 -2.47423578e-01  1.89807367e-01\n",
      "  5.06887180e-01  3.39748991e-01  6.24857179e-01  9.03103567e-01\n",
      " -1.06408906e-01  7.35683909e-01 -2.35375678e-01  3.96339996e-01\n",
      "  1.08157574e+00  1.15332409e+00 -7.13807942e-01  5.61736838e-01\n",
      " -7.27040139e-01  1.18063760e-01  4.58030173e-01  2.26210480e+00\n",
      "  1.44639480e+00  2.08303378e-01  8.99488908e-01  1.88884137e-01\n",
      " -1.17160339e-01  5.18011004e-01 -8.01389860e-01  2.25798260e+00\n",
      "  1.26354244e+00  1.50881942e+00 -2.26298228e-01  9.27990931e-01\n",
      "  1.25377281e+00 -9.44445613e-01  1.67208911e-03 -5.57694557e-01\n",
      " -1.16230678e+00  1.06762068e+00  7.52343447e-01 -1.04529632e+00\n",
      " -5.65435353e-01  2.34947263e-01  2.18295505e+00  6.73643473e-01]\n"
     ]
    }
   ],
   "source": [
    "# Method to generate predicted values\n",
    "def GeneratePredict(X, β, b):\n",
    "    y_res = np.dot(X,β) + b\n",
    "    return y_res\n",
    "\n",
    "print(GeneratePredict(X, β, b))"
   ]
  },
  {
   "cell_type": "markdown",
   "id": "ddad9d23",
   "metadata": {},
   "source": [
    "### Cost function\n",
    "\n",
    "Now we want to calculate the cost function (function to minimize). Here, the cost function can be written as:\n",
    "\n",
    "J =  (1/n) * Σ<i,n> (ŷ - y)²\n",
    "\n",
    "with J = cost function,\n",
    "    n = number of element in the dataset,\n",
    "    ŷ = predicted values,\n",
    "    y = expected values"
   ]
  },
  {
   "cell_type": "code",
   "execution_count": 25,
   "id": "b1a9ff3f",
   "metadata": {},
   "outputs": [
    {
     "name": "stdout",
     "output_type": "stream",
     "text": [
      "0.31347239301059054\n"
     ]
    }
   ],
   "source": [
    "#define a method to compute the cost function\n",
    "def Cost(y, y_pred):\n",
    "    n = len(y)\n",
    "    J = np.sum(np.power(y_pred - y, 2)) / n\n",
    "    return J\n",
    "\n",
    "print(Cost(y, GeneratePredict(X, β, b)))"
   ]
  },
  {
   "cell_type": "markdown",
   "id": "23568ffc",
   "metadata": {},
   "source": [
    "### Update bias and weights\n",
    "\n",
    "We want to update the bias and weights to minimize the cost function. To do so we will use the partial derivative."
   ]
  },
  {
   "cell_type": "code",
   "execution_count": 26,
   "id": "b1f32164",
   "metadata": {},
   "outputs": [
    {
     "name": "stdout",
     "output_type": "stream",
     "text": [
      "Before updating\n",
      "bias:  0.4431754361745749\n",
      "weights:  [0.70544893 0.4192726  0.05413679]\n",
      "\n",
      "After updating\n",
      "bias:  0.4343119274510834\n",
      "weights:  [0.70645844 0.421245   0.0538529 ]\n"
     ]
    }
   ],
   "source": [
    "# method to update bias and weights to minimize the cost function\n",
    "# a is the learning rate\n",
    "def UpdateBiasWeights(X, y, y_pred, b, β, a):\n",
    "    # partial derivative of dJ/db\n",
    "    db=(np.sum(y_pred-y)*2)/len(y)\n",
    "    \n",
    "    # partial derivative of dJ/dβ\n",
    "    dw=(np.dot((y_pred-y),X)*2)/len(y)\n",
    "    \n",
    "    # updates values\n",
    "    β = β - a * dw\n",
    "    b = b - a * db\n",
    "    return β, b\n",
    "\n",
    "\n",
    "print('Before updating')\n",
    "print('bias: ',  b)\n",
    "print('weights: ', β)\n",
    "print()\n",
    "y_predi = GeneratePredict(X, β, b)\n",
    "β , b = UpdateBiasWeights(X, y, y_predi, b, β, 0.01)\n",
    "print('After updating')\n",
    "print('bias: ',  b)\n",
    "print('weights: ', β)"
   ]
  },
  {
   "cell_type": "markdown",
   "id": "0d283dd8",
   "metadata": {},
   "source": [
    "### Implementing the gradient descent\n",
    "\n",
    "Now we are going to use all the methods defined before to implement the gradient descent method\n"
   ]
  },
  {
   "cell_type": "code",
   "execution_count": 27,
   "id": "fdaa5a53",
   "metadata": {},
   "outputs": [
    {
     "name": "stdout",
     "output_type": "stream",
     "text": [
      "0.014255470076503036\n",
      "[0.7459806  0.5013331  0.03334489]\n"
     ]
    }
   ],
   "source": [
    "def GradientDescent(X, y, learning_rate, nb_iterations):\n",
    "    # Initialize random bias and weights\n",
    "    β, b = Initialize()\n",
    "    \n",
    "    for _ in range(nb_iterations):\n",
    "        # generate a prediction\n",
    "        y_pred = GeneratePredict(X, β, b)\n",
    "        \n",
    "        # keep in track previous values\n",
    "        prev_b = b\n",
    "        prev_β = β\n",
    "        \n",
    "        #update the bias and the weights\n",
    "        β , b = UpdateBiasWeights(X, y, y_pred, prev_b, prev_β, learning_rate)\n",
    "        \n",
    "    return β , b\n",
    "\n",
    "# Test the solution\n",
    "final_β, final_b  = GradientDescent(X, y, learning_rate=0.01, nb_iterations=200)\n",
    "print(final_b)\n",
    "print(final_β)"
   ]
  },
  {
   "cell_type": "markdown",
   "id": "2e25fc97",
   "metadata": {},
   "source": [
    "### Use bias and weights to predict values"
   ]
  },
  {
   "cell_type": "code",
   "execution_count": 33,
   "id": "641e8118",
   "metadata": {},
   "outputs": [
    {
     "data": {
      "text/html": [
       "<div>\n",
       "<style scoped>\n",
       "    .dataframe tbody tr th:only-of-type {\n",
       "        vertical-align: middle;\n",
       "    }\n",
       "\n",
       "    .dataframe tbody tr th {\n",
       "        vertical-align: top;\n",
       "    }\n",
       "\n",
       "    .dataframe thead th {\n",
       "        text-align: right;\n",
       "    }\n",
       "</style>\n",
       "<table border=\"1\" class=\"dataframe\">\n",
       "  <thead>\n",
       "    <tr style=\"text-align: right;\">\n",
       "      <th></th>\n",
       "      <th>TV</th>\n",
       "      <th>Radio</th>\n",
       "      <th>Newspaper</th>\n",
       "      <th>Sales</th>\n",
       "      <th>Prediction</th>\n",
       "    </tr>\n",
       "  </thead>\n",
       "  <tbody>\n",
       "    <tr>\n",
       "      <th>148</th>\n",
       "      <td>243.2</td>\n",
       "      <td>49.0</td>\n",
       "      <td>44.3</td>\n",
       "      <td>25.4</td>\n",
       "      <td>60.579003</td>\n",
       "    </tr>\n",
       "    <tr>\n",
       "      <th>78</th>\n",
       "      <td>120.5</td>\n",
       "      <td>28.5</td>\n",
       "      <td>14.2</td>\n",
       "      <td>14.2</td>\n",
       "      <td>33.204313</td>\n",
       "    </tr>\n",
       "    <tr>\n",
       "      <th>166</th>\n",
       "      <td>234.5</td>\n",
       "      <td>3.4</td>\n",
       "      <td>84.8</td>\n",
       "      <td>11.9</td>\n",
       "      <td>26.388034</td>\n",
       "    </tr>\n",
       "    <tr>\n",
       "      <th>22</th>\n",
       "      <td>237.4</td>\n",
       "      <td>5.1</td>\n",
       "      <td>23.5</td>\n",
       "      <td>12.5</td>\n",
       "      <td>24.557862</td>\n",
       "    </tr>\n",
       "    <tr>\n",
       "      <th>31</th>\n",
       "      <td>292.9</td>\n",
       "      <td>28.3</td>\n",
       "      <td>43.2</td>\n",
       "      <td>21.4</td>\n",
       "      <td>48.194884</td>\n",
       "    </tr>\n",
       "  </tbody>\n",
       "</table>\n",
       "</div>"
      ],
      "text/plain": [
       "        TV  Radio  Newspaper  Sales  Prediction\n",
       "148  243.2   49.0       44.3   25.4   60.579003\n",
       "78   120.5   28.5       14.2   14.2   33.204313\n",
       "166  234.5    3.4       84.8   11.9   26.388034\n",
       "22   237.4    5.1       23.5   12.5   24.557862\n",
       "31   292.9   28.3       43.2   21.4   48.194884"
      ]
     },
     "execution_count": 33,
     "metadata": {},
     "output_type": "execute_result"
    }
   ],
   "source": [
    "# create a dataframe with the predictions made\n",
    "def CreateDfPredictions(β , b):\n",
    "    # copy the dataframe with the rights index\n",
    "    df = advertising_data.loc[y_valid.index.tolist(), :]\n",
    "    \n",
    "    # Get the features budget matrices\n",
    "    X_TV = df.iloc[:, [0]].values\n",
    "    X_Radio = df.iloc[:, [1]].values\n",
    "    X_Newspaper = df.iloc[:, [2]].values\n",
    "    \n",
    "    # Add the prediction column\n",
    "    df['Prediction'] = X_TV * β[0] + X_Radio * β[1] + X_Newspaper * β[2] + b\n",
    "    return df\n",
    "\n",
    "df_pred = CreateDfPredictions(final_β, final_b)\n",
    "df_pred.head()"
   ]
  },
  {
   "cell_type": "markdown",
   "id": "663a2a63",
   "metadata": {},
   "source": [
    "We can see that the predictions are pretty bad. We can play with the number of iterations and the learning rate to find out better bias and weights.\n"
   ]
  },
  {
   "cell_type": "code",
   "execution_count": 30,
   "id": "060f171a",
   "metadata": {},
   "outputs": [
    {
     "name": "stdout",
     "output_type": "stream",
     "text": [
      "0.6104010480340043\n",
      "[0.07855732 0.78394071 0.05531301]\n"
     ]
    },
    {
     "data": {
      "text/html": [
       "<div>\n",
       "<style scoped>\n",
       "    .dataframe tbody tr th:only-of-type {\n",
       "        vertical-align: middle;\n",
       "    }\n",
       "\n",
       "    .dataframe tbody tr th {\n",
       "        vertical-align: top;\n",
       "    }\n",
       "\n",
       "    .dataframe thead th {\n",
       "        text-align: right;\n",
       "    }\n",
       "</style>\n",
       "<table border=\"1\" class=\"dataframe\">\n",
       "  <thead>\n",
       "    <tr style=\"text-align: right;\">\n",
       "      <th></th>\n",
       "      <th>TV</th>\n",
       "      <th>Radio</th>\n",
       "      <th>Newspaper</th>\n",
       "      <th>Sales</th>\n",
       "      <th>Prediction</th>\n",
       "    </tr>\n",
       "  </thead>\n",
       "  <tbody>\n",
       "    <tr>\n",
       "      <th>148</th>\n",
       "      <td>243.2</td>\n",
       "      <td>49.0</td>\n",
       "      <td>44.3</td>\n",
       "      <td>25.4</td>\n",
       "      <td>60.579003</td>\n",
       "    </tr>\n",
       "    <tr>\n",
       "      <th>78</th>\n",
       "      <td>120.5</td>\n",
       "      <td>28.5</td>\n",
       "      <td>14.2</td>\n",
       "      <td>14.2</td>\n",
       "      <td>33.204313</td>\n",
       "    </tr>\n",
       "    <tr>\n",
       "      <th>166</th>\n",
       "      <td>234.5</td>\n",
       "      <td>3.4</td>\n",
       "      <td>84.8</td>\n",
       "      <td>11.9</td>\n",
       "      <td>26.388034</td>\n",
       "    </tr>\n",
       "    <tr>\n",
       "      <th>22</th>\n",
       "      <td>237.4</td>\n",
       "      <td>5.1</td>\n",
       "      <td>23.5</td>\n",
       "      <td>12.5</td>\n",
       "      <td>24.557862</td>\n",
       "    </tr>\n",
       "    <tr>\n",
       "      <th>31</th>\n",
       "      <td>292.9</td>\n",
       "      <td>28.3</td>\n",
       "      <td>43.2</td>\n",
       "      <td>21.4</td>\n",
       "      <td>48.194884</td>\n",
       "    </tr>\n",
       "  </tbody>\n",
       "</table>\n",
       "</div>"
      ],
      "text/plain": [
       "        TV  Radio  Newspaper  Sales  Prediction\n",
       "148  243.2   49.0       44.3   25.4   60.579003\n",
       "78   120.5   28.5       14.2   14.2   33.204313\n",
       "166  234.5    3.4       84.8   11.9   26.388034\n",
       "22   237.4    5.1       23.5   12.5   24.557862\n",
       "31   292.9   28.3       43.2   21.4   48.194884"
      ]
     },
     "execution_count": 30,
     "metadata": {},
     "output_type": "execute_result"
    }
   ],
   "source": [
    "final_β, final_b  = GradientDescent(X, y, learning_rate=0.0001, nb_iterations=300)\n",
    "print(final_b)\n",
    "print(final_β)\n",
    "\n",
    "df_pred = CreateDfPredictions(final_β, final_b)\n",
    "df_pred.head()"
   ]
  },
  {
   "cell_type": "markdown",
   "id": "2e11ecb0",
   "metadata": {},
   "source": [
    "We can see that the predictions are much better by adding more steps and put a lower learning_rate"
   ]
  },
  {
   "cell_type": "code",
   "execution_count": 31,
   "id": "26921512",
   "metadata": {},
   "outputs": [
    {
     "data": {
      "image/png": "[encoded data removed]",
      "text/plain": [
       "<Figure size 640x480 with 1 Axes>"
      ]
     },
     "metadata": {},
     "output_type": "display_data"
    }
   ],
   "source": [
    "# Plot the predicted and expected values\n",
    "plt.scatter(adverstising_data_with_prediction.TV, df_pred.Prediction, label='Predicted TV values', color='lightblue')\n",
    "plt.scatter(adverstising_data_with_prediction.TV, df_pred.Sales, label='Expected TV values', color='lightgreen')\n",
    "\n",
    "# Add labels and title\n",
    "plt.xlabel('TV budget')\n",
    "plt.ylabel('Sales')\n",
    "plt.title('Predicted vs Expected sales on TV budget')\n",
    "\n",
    "# Add legend\n",
    "plt.legend()\n",
    "\n",
    "# Show BOOM\n",
    "plt.show()"
   ]
  },
  {
   "cell_type": "markdown",
   "id": "8c363136",
   "metadata": {},
   "source": [
    "\n",
    "## Conclusion\n",
    "\n",
    "In this notebook, I have used Linear Regression to predict the sales of a product based on its TV, Radio and Newspaper budget.\n",
    "\n",
    "    . First I used the LinearRegression model from the sklearn library that gave me very good result.\n",
    "    . Secondly I have implemented my own model with a gradient descent algorithm.\n",
    "    \n",
    "The results were clearly better with the sklearn libraryand linear regression which is very simple to use. So except for a very specific need it is preferable to use a library already implemented\n"
   ]
  },
  {
   "cell_type": "code",
   "execution_count": null,
   "id": "2594e3dd",
   "metadata": {},
   "outputs": [],
   "source": []
  }
 ],
 "metadata": {
  "kernelspec": {
   "display_name": "Python 3 (ipykernel)",
   "language": "python",
   "name": "python3"
  },
  "language_info": {
   "codemirror_mode": {
    "name": "ipython",
    "version": 3
   },
   "file_extension": ".py",
   "mimetype": "text/x-python",
   "name": "python",
   "nbconvert_exporter": "python",
   "pygments_lexer": "ipython3",
   "version": "3.11.2"
  }
 },
 "nbformat": 4,
 "nbformat_minor": 5
}
